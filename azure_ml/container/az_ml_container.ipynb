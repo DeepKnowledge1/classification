{
 "cells": [
  {
   "cell_type": "code",
   "execution_count": null,
   "id": "600224c8",
   "metadata": {},
   "outputs": [],
   "source": [
    "import argparse\n",
    "from azure.identity import DefaultAzureCredential\n",
    "from azure.mgmt.storage import StorageManagementClient\n",
    "from azure.storage.blob import BlobServiceClient"
   ]
  },
  {
   "cell_type": "code",
   "execution_count": null,
   "id": "0910921e",
   "metadata": {},
   "outputs": [],
   "source": [
    "def get_storage_account_key(subscription_id, resource_group, storage_account_name):\n",
    "    credential = DefaultAzureCredential()\n",
    "    storage_client = StorageManagementClient(credential, subscription_id)\n",
    "\n",
    "    keys = storage_client.storage_accounts.list_keys(\n",
    "        resource_group, storage_account_name\n",
    "    )\n",
    "    return keys.keys[0].value"
   ]
  },
  {
   "cell_type": "code",
   "execution_count": null,
   "id": "8e9caf2b",
   "metadata": {},
   "outputs": [],
   "source": [
    "def create_container(blob_service_client, container_name):\n",
    "    try:\n",
    "        container_client = blob_service_client.get_container_client(container_name)\n",
    "        container_client.create_container()\n",
    "        print(f\"Container '{container_name}' created successfully.\")\n",
    "    except Exception as e:\n",
    "        print(f\"Container creation failed or already exists: {e}\")"
   ]
  },
  {
   "cell_type": "code",
   "execution_count": null,
   "id": "83b6443a",
   "metadata": {},
   "outputs": [],
   "source": [
    "def upload_blob(blob_service_client, container_name, blob_name, file_path):\n",
    "    try:\n",
    "        blob_client = blob_service_client.get_blob_client(\n",
    "            container=container_name, blob=blob_name\n",
    "        )\n",
    "        with open(file_path, \"rb\") as data:\n",
    "            blob_client.upload_blob(data, overwrite=True)\n",
    "        print(\n",
    "            f\"File '{file_path}' uploaded to blob '{blob_name}' in container '{container_name}'.\"\n",
    "        )\n",
    "    except Exception as e:\n",
    "        print(f\"Blob upload failed: {e}\")"
   ]
  },
  {
   "cell_type": "code",
   "execution_count": null,
   "id": "60705e8e",
   "metadata": {},
   "outputs": [],
   "source": [
    "def main():\n",
    "    parser = argparse.ArgumentParser(\n",
    "        description=\"Create a container and upload a file using Azure SDK v2.\"\n",
    "    )\n",
    "    parser.add_argument(\n",
    "        \"--subscription_id\",\n",
    "        default=\"5eab4ecc-5ecf-4754-802d-6da984293b70\",\n",
    "        help=\"Azure Subscription ID\",\n",
    "    )\n",
    "    parser.add_argument(\n",
    "        \"--resource_group\", default=\"rg_demo01\", help=\"Azure Resource Group Name\"\n",
    "    )\n",
    "    parser.add_argument(\n",
    "        \"--storage_account\",\n",
    "        default=\"storageaccountcli01\",\n",
    "        help=\"Azure Storage Account Name\",\n",
    "    )\n",
    "    parser.add_argument(\n",
    "        \"--container_name\", default=\"containerpy01\", help=\"Container Name\"\n",
    "    )\n",
    "    parser.add_argument(\n",
    "        \"--file_path\", default=\"./data/Date_Fruit_Datasets.csv\", help=\"Local File Path\"\n",
    "    )\n",
    "    parser.add_argument(\n",
    "        \"--blob_name\", default=\"Date_Fruit_Datasets.csv\", help=\"Blob Name\"\n",
    "    )\n",
    "\n",
    "    args = parser.parse_args()\n",
    "\n",
    "    # Get storage account key\n",
    "    storage_account_key = get_storage_account_key(\n",
    "        args.subscription_id, args.resource_group, args.storage_account\n",
    "    )\n",
    "\n",
    "    # Initialize BlobServiceClient\n",
    "    blob_service_client = BlobServiceClient(\n",
    "        account_url=f\"https://{args.storage_account}.blob.core.windows.net\",\n",
    "        credential=storage_account_key,\n",
    "    )\n",
    "\n",
    "    # Create container\n",
    "    create_container(blob_service_client, args.container_name)\n",
    "\n",
    "    # Upload file to container\n",
    "    upload_blob(\n",
    "        blob_service_client, args.container_name, args.blob_name, args.file_path\n",
    "    )"
   ]
  },
  {
   "cell_type": "code",
   "execution_count": null,
   "id": "c11532cc",
   "metadata": {},
   "outputs": [],
   "source": [
    "if __name__ == \"__main__\":\n",
    "    main()"
   ]
  }
 ],
 "metadata": {
  "jupytext": {
   "cell_metadata_filter": "-all",
   "main_language": "python",
   "notebook_metadata_filter": "-all"
  }
 },
 "nbformat": 4,
 "nbformat_minor": 5
}
